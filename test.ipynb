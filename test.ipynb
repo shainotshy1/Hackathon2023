{
 "cells": [
  {
   "cell_type": "code",
   "execution_count": 1,
   "metadata": {},
   "outputs": [],
   "source": [
    "from sentence import *"
   ]
  },
  {
   "cell_type": "code",
   "execution_count": 5,
   "metadata": {},
   "outputs": [],
   "source": [
    "dictionary = WordDictionary()\n",
    "sentence = Sentence(\"I walked home with my friend Joe\", dictionary)"
   ]
  },
  {
   "cell_type": "code",
   "execution_count": 4,
   "metadata": {},
   "outputs": [
    {
     "name": "stdout",
     "output_type": "stream",
     "text": [
      "I{[<WordType.NOUN: 2>, <WordType.ADJECTIVE: 4>]}\n",
      "walked{[<WordType.VERB: 3>]}\n",
      "home{[<WordType.NOUN: 2>, <WordType.VERB: 3>, <WordType.ADJECTIVE: 4>, <WordType.ADVERB: 5>]}\n",
      "with{[<WordType.NONE: 1>]}\n",
      "my{[<WordType.NONE: 1>]}\n",
      "friend{[<WordType.NOUN: 2>]}\n",
      "Joe{[<WordType.NONE: 1>]}\n",
      "\n"
     ]
    }
   ],
   "source": [
    "print(sentence)"
   ]
  },
  {
   "cell_type": "code",
   "execution_count": null,
   "metadata": {},
   "outputs": [],
   "source": []
  }
 ],
 "metadata": {
  "kernelspec": {
   "display_name": "env",
   "language": "python",
   "name": "python3"
  },
  "language_info": {
   "codemirror_mode": {
    "name": "ipython",
    "version": 3
   },
   "file_extension": ".py",
   "mimetype": "text/x-python",
   "name": "python",
   "nbconvert_exporter": "python",
   "pygments_lexer": "ipython3",
   "version": "3.8.10"
  }
 },
 "nbformat": 4,
 "nbformat_minor": 2
}
